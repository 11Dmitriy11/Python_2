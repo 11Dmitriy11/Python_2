{
 "cells": [
  {
   "cell_type": "code",
   "execution_count": 144,
   "metadata": {},
   "outputs": [
    {
     "name": "stdout",
     "output_type": "stream",
     "text": [
      "Isocitrate lyase 5E9F contains its active site PS00161 starting from 212 position: KKCGHM\n"
     ]
    }
   ],
   "source": [
    "import re\n",
    "site_id = 'PS00161'\n",
    "\n",
    "with open ('5e9f.fasta.txt', 'r') as r:\n",
    "    Fas = ''.join(r.readlines())\n",
    "\n",
    "fasta_id = re.search(r'(?<=>)(\\S+)(?=:)', Fas).group()\n",
    "chain_lab = re.findall(r'(?<=:)(\\S)(?=|)', Fas)\n",
    "seq = list(map(lambda x: x.replace('\\n',''), re.findall(('(?<=SEQUENCE\\n).*?(?=>)'), Fas, re.S)))\n",
    "dic = {}\n",
    "for key in chain_lab: \n",
    "    for value in seq: \n",
    "        dic[key] = value \n",
    "sites =[]\n",
    "pos = []\n",
    "for value in dic.values():\n",
    "     site = re.search(r'K[KR]CGH[LMQR]', value).group()\n",
    "     site_position = re.search(r'K[KR]CGH[LMQR]', value).span()\n",
    "     sites.append(site)\n",
    "     pos.append(site_position)\n",
    "\n",
    "print(f'Isocitrate lyase {fasta_id} contains its active \\\n",
    "site {site_id} starting from {pos[0][0]} position: {sites[0]}')\n"
   ]
  },
  {
   "cell_type": "code",
   "execution_count": null,
   "metadata": {},
   "outputs": [],
   "source": []
  },
  {
   "cell_type": "code",
   "execution_count": null,
   "metadata": {},
   "outputs": [],
   "source": []
  }
 ],
 "metadata": {
  "kernelspec": {
   "display_name": "Python 3",
   "language": "python",
   "name": "python3"
  },
  "language_info": {
   "codemirror_mode": {
    "name": "ipython",
    "version": 3
   },
   "file_extension": ".py",
   "mimetype": "text/x-python",
   "name": "python",
   "nbconvert_exporter": "python",
   "pygments_lexer": "ipython3",
   "version": "3.7.3"
  }
 },
 "nbformat": 4,
 "nbformat_minor": 2
}
