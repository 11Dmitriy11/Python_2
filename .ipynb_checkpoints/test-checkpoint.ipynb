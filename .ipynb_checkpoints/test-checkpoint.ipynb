{
 "cells": [
  {
   "cell_type": "code",
   "execution_count": 3,
   "metadata": {},
   "outputs": [],
   "source": [
    "import pandas as pd\n",
    "import seaborn as sns"
   ]
  },
  {
   "cell_type": "code",
   "execution_count": 22,
   "metadata": {},
   "outputs": [
    {
     "data": {
      "text/plain": [
       "<bound method NDFrame.head of                 species        genus  group   sucrose    alanin   citrate  \\\n",
       "0     Fucus_vesiculosus        Fucus  brown  3.001472  3.711498  5.004262   \n",
       "1   Saccharina_japonica   Saccharina  brown  6.731070  1.255251  5.621499   \n",
       "2        Fucus_serratus        Fucus  brown  3.276870  0.346431  1.216767   \n",
       "3       Fucus_distichus        Fucus  brown  6.786996  6.641303  6.423606   \n",
       "4     Cladophora_fracta   Cladophora  green  3.861470  1.648450  6.940588   \n",
       "5   Cladophora_compacta   Cladophora  green  5.712284  3.461692  3.082826   \n",
       "6   Cladophora_gracilis   Cladophora  green  2.452623  6.881024  5.841520   \n",
       "7      Palmaria_palmata     Palmaria    red  0.704580  3.176440  5.573905   \n",
       "8  Saccharina_latissima   Saccharina  brown  1.636122  5.793163  1.071920   \n",
       "9   Ascophyllum_nodosum  Ascophyllum  brown  6.825467  0.875429  5.253527   \n",
       "\n",
       "    glucose  oleic_acid  \n",
       "0  2.548459    6.405165  \n",
       "1  6.013219    4.156700  \n",
       "2  3.623225    0.304573  \n",
       "3  2.272724    3.393203  \n",
       "4  2.316955    2.528886  \n",
       "5  3.343707    1.432514  \n",
       "6  2.740165    2.829016  \n",
       "7  3.242090    2.245538  \n",
       "8  3.947968    4.817804  \n",
       "9  3.414961    2.432526  >"
      ]
     },
     "execution_count": 22,
     "metadata": {},
     "output_type": "execute_result"
    }
   ],
   "source": [
    "df = pd.read_csv(\"metabolites.csv\")\n",
    "df.head"
   ]
  },
  {
   "cell_type": "code",
   "execution_count": 23,
   "metadata": {},
   "outputs": [
    {
     "name": "stderr",
     "output_type": "stream",
     "text": [
      "/home/dmitrii/anaconda3/lib/python3.7/site-packages/ipykernel_launcher.py:1: UserWarning: Pandas doesn't allow columns to be created via a new attribute name - see https://pandas.pydata.org/pandas-docs/stable/indexing.html#attribute-access\n",
      "  \"\"\"Entry point for launching an IPython kernel.\n"
     ]
    }
   ],
   "source": [
    "df.gr = df.groupby(by=['genus']).mean()"
   ]
  },
  {
   "cell_type": "code",
   "execution_count": 24,
   "metadata": {},
   "outputs": [
    {
     "data": {
      "text/html": [
       "<div>\n",
       "<style scoped>\n",
       "    .dataframe tbody tr th:only-of-type {\n",
       "        vertical-align: middle;\n",
       "    }\n",
       "\n",
       "    .dataframe tbody tr th {\n",
       "        vertical-align: top;\n",
       "    }\n",
       "\n",
       "    .dataframe thead th {\n",
       "        text-align: right;\n",
       "    }\n",
       "</style>\n",
       "<table border=\"1\" class=\"dataframe\">\n",
       "  <thead>\n",
       "    <tr style=\"text-align: right;\">\n",
       "      <th></th>\n",
       "      <th>genus</th>\n",
       "      <th>sucrose</th>\n",
       "      <th>alanin</th>\n",
       "      <th>citrate</th>\n",
       "      <th>glucose</th>\n",
       "      <th>oleic_acid</th>\n",
       "    </tr>\n",
       "  </thead>\n",
       "  <tbody>\n",
       "    <tr>\n",
       "      <th>0</th>\n",
       "      <td>Ascophyllum</td>\n",
       "      <td>6.825467</td>\n",
       "      <td>0.875429</td>\n",
       "      <td>5.253527</td>\n",
       "      <td>3.414961</td>\n",
       "      <td>2.432526</td>\n",
       "    </tr>\n",
       "    <tr>\n",
       "      <th>1</th>\n",
       "      <td>Cladophora</td>\n",
       "      <td>4.008792</td>\n",
       "      <td>3.997055</td>\n",
       "      <td>5.288311</td>\n",
       "      <td>2.800276</td>\n",
       "      <td>2.263472</td>\n",
       "    </tr>\n",
       "    <tr>\n",
       "      <th>2</th>\n",
       "      <td>Fucus</td>\n",
       "      <td>4.355112</td>\n",
       "      <td>3.566411</td>\n",
       "      <td>4.214878</td>\n",
       "      <td>2.814803</td>\n",
       "      <td>3.367647</td>\n",
       "    </tr>\n",
       "    <tr>\n",
       "      <th>3</th>\n",
       "      <td>Palmaria</td>\n",
       "      <td>0.704580</td>\n",
       "      <td>3.176440</td>\n",
       "      <td>5.573905</td>\n",
       "      <td>3.242090</td>\n",
       "      <td>2.245538</td>\n",
       "    </tr>\n",
       "    <tr>\n",
       "      <th>4</th>\n",
       "      <td>Saccharina</td>\n",
       "      <td>4.183596</td>\n",
       "      <td>3.524207</td>\n",
       "      <td>3.346710</td>\n",
       "      <td>4.980594</td>\n",
       "      <td>4.487252</td>\n",
       "    </tr>\n",
       "  </tbody>\n",
       "</table>\n",
       "</div>"
      ],
      "text/plain": [
       "         genus   sucrose    alanin   citrate   glucose  oleic_acid\n",
       "0  Ascophyllum  6.825467  0.875429  5.253527  3.414961    2.432526\n",
       "1   Cladophora  4.008792  3.997055  5.288311  2.800276    2.263472\n",
       "2        Fucus  4.355112  3.566411  4.214878  2.814803    3.367647\n",
       "3     Palmaria  0.704580  3.176440  5.573905  3.242090    2.245538\n",
       "4   Saccharina  4.183596  3.524207  3.346710  4.980594    4.487252"
      ]
     },
     "execution_count": 24,
     "metadata": {},
     "output_type": "execute_result"
    }
   ],
   "source": [
    "\n",
    "df.gr.reset_index(inplace=True)  \n",
    "df.gr\n"
   ]
  },
  {
   "cell_type": "code",
   "execution_count": 31,
   "metadata": {},
   "outputs": [
    {
     "data": {
      "text/plain": [
       "<bound method NDFrame.head of           genus    variable     value\n",
       "0   Ascophyllum     sucrose  6.825467\n",
       "1    Cladophora     sucrose  4.008792\n",
       "2         Fucus     sucrose  4.355112\n",
       "3      Palmaria     sucrose  0.704580\n",
       "4    Saccharina     sucrose  4.183596\n",
       "5   Ascophyllum      alanin  0.875429\n",
       "6    Cladophora      alanin  3.997055\n",
       "7         Fucus      alanin  3.566411\n",
       "8      Palmaria      alanin  3.176440\n",
       "9    Saccharina      alanin  3.524207\n",
       "10  Ascophyllum     citrate  5.253527\n",
       "11   Cladophora     citrate  5.288311\n",
       "12        Fucus     citrate  4.214878\n",
       "13     Palmaria     citrate  5.573905\n",
       "14   Saccharina     citrate  3.346710\n",
       "15  Ascophyllum     glucose  3.414961\n",
       "16   Cladophora     glucose  2.800276\n",
       "17        Fucus     glucose  2.814803\n",
       "18     Palmaria     glucose  3.242090\n",
       "19   Saccharina     glucose  4.980594\n",
       "20  Ascophyllum  oleic_acid  2.432526\n",
       "21   Cladophora  oleic_acid  2.263472\n",
       "22        Fucus  oleic_acid  3.367647\n",
       "23     Palmaria  oleic_acid  2.245538\n",
       "24   Saccharina  oleic_acid  4.487252>"
      ]
     },
     "execution_count": 31,
     "metadata": {},
     "output_type": "execute_result"
    }
   ],
   "source": [
    "melt_df = pd.melt(                                   # from wide format to long format\n",
    "    frame=df.gr,\n",
    "    id_vars=\"genus\")\n",
    "melt_df.head"
   ]
  },
  {
   "cell_type": "code",
   "execution_count": 30,
   "metadata": {},
   "outputs": [
    {
     "data": {
      "image/png": "[encoded data removed]",
      "text/plain": [
       "<Figure size 1152x1152 with 1 Axes>"
      ]
     },
     "metadata": {
      "needs_background": "light"
     },
     "output_type": "display_data"
    }
   ],
   "source": [
    "g = sns.catplot(x=\"genus\",y=\"value\", hue=\"variable\",kind=\"bar\",legend_out=False,height=16,data = melt_df)"
   ]
  },
  {
   "cell_type": "code",
   "execution_count": null,
   "metadata": {},
   "outputs": [],
   "source": [
    "g = sns.catplot(x=\"genus\",y=\"value\", hue=\"variable\",kind=\"bar\",legend_out=False,height=16,data = melt_df)\n"
   ]
  },
  {
   "cell_type": "code",
   "execution_count": 43,
   "metadata": {},
   "outputs": [],
   "source": [
    "##iterators\n",
    "my_iter = map(lambda x: True if x % 3 == 0 else False, [1,2,3,4,5])"
   ]
  },
  {
   "cell_type": "code",
   "execution_count": 44,
   "metadata": {},
   "outputs": [
    {
     "name": "stdout",
     "output_type": "stream",
     "text": [
      "False\n",
      "False\n",
      "True\n",
      "False\n",
      "False\n"
     ]
    }
   ],
   "source": [
    "while True:\n",
    "    try:\n",
    "        print(next(my_iter))\n",
    "    except (StopIteration):\n",
    "        break"
   ]
  },
  {
   "cell_type": "code",
   "execution_count": null,
   "metadata": {},
   "outputs": [],
   "source": [
    "\n",
    "#better in case of catching errors since it can iterate step by step with keeping the state of iterator"
   ]
  },
  {
   "cell_type": "code",
   "execution_count": 2,
   "metadata": {},
   "outputs": [],
   "source": [
    "#request\n",
    "import requests"
   ]
  },
  {
   "cell_type": "code",
   "execution_count": 5,
   "metadata": {},
   "outputs": [
    {
     "name": "stdout",
     "output_type": "stream",
     "text": [
      "{\n",
      " \"text\": \"the least random number, according to the Hackers' Jargon File\",\n",
      " \"number\": 17,\n",
      " \"found\": true,\n",
      " \"type\": \"math\"\n",
      "}\n",
      "{\n",
      " \"text\": \"a triangular number, a hexagonal and 16-gonal number, a Kaprekar number, and a Harshad number\",\n",
      " \"number\": 45,\n",
      " \"found\": true,\n",
      " \"type\": \"math\"\n",
      "}\n",
      "{\n",
      " \"text\": \"Silesia is incorporated into territory ruled by Boleslaus I of Poland\",\n",
      " \"number\": 999,\n",
      " \"found\": true,\n",
      " \"type\": \"year\"\n",
      "}\n",
      "{\n",
      " \"date\": \"November 14\",\n",
      " \"text\": \"Chile's National Library of Congress is founded\",\n",
      " \"number\": 1883,\n",
      " \"found\": true,\n",
      " \"type\": \"year\"\n",
      "}\n"
     ]
    }
   ],
   "source": [
    "#17, 45, 999, 1883\n",
    "Url = [\"https://numbersapi.p.rapidapi.com/17/math\",\"https://numbersapi.p.rapidapi.com/45/math\",\n",
    "       \"https://numbersapi.p.rapidapi.com/999/year\",'https://numbersapi.p.rapidapi.com/1883/year']\n",
    "for url in Url:\n",
    "    querystring = {\"fragment\":\"true\",\"json\":\"true\"}\n",
    "\n",
    "    headers = {\n",
    "        'x-rapidapi-host': \"numbersapi.p.rapidapi.com\",\n",
    "        'x-rapidapi-key': \"40c462b0c8msha9720497f394233p11048fjsna821991f0594\"\n",
    "        }\n",
    "\n",
    "    response = requests.request(\"GET\", url, headers=headers, params=querystring)\n",
    "\n",
    "    print(response.text)"
   ]
  },
  {
   "cell_type": "code",
   "execution_count": null,
   "metadata": {},
   "outputs": [],
   "source": []
  }
 ],
 "metadata": {
  "kernelspec": {
   "display_name": "Python 3",
   "language": "python",
   "name": "python3"
  },
  "language_info": {
   "codemirror_mode": {
    "name": "ipython",
    "version": 3
   },
   "file_extension": ".py",
   "mimetype": "text/x-python",
   "name": "python",
   "nbconvert_exporter": "python",
   "pygments_lexer": "ipython3",
   "version": "3.7.3"
  }
 },
 "nbformat": 4,
 "nbformat_minor": 2
}
