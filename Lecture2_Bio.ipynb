{
 "cells": [
  {
   "cell_type": "code",
   "execution_count": null,
   "metadata": {},
   "outputs": [],
   "source": [
    "'''\n",
    "Biopython \n",
    "* started in 1999-2000. \n",
    "* is an open source community project.\n",
    "* has various modules.\n",
    "\n",
    "https://biopython.org/DIST/docs/api/Bio-module.html\n",
    "'''"
   ]
  },
  {
   "cell_type": "code",
   "execution_count": null,
   "metadata": {},
   "outputs": [],
   "source": [
    "# ==================================== Sequences ================================================"
   ]
  },
  {
   "cell_type": "code",
   "execution_count": null,
   "metadata": {},
   "outputs": [],
   "source": [
    "from Bio.Seq import Seq\n",
    "my_seq = Seq(\"AGTACACTGGT\")"
   ]
  },
  {
   "cell_type": "code",
   "execution_count": null,
   "metadata": {},
   "outputs": [],
   "source": [
    "my_seq"
   ]
  },
  {
   "cell_type": "code",
   "execution_count": null,
   "metadata": {},
   "outputs": [],
   "source": [
    "'''\n",
    "We haven’t specified an alphabet so we end up with a default generic alphabet. \n",
    "Biopython doesn’t know if this is a nucleotide sequence \n",
    "or a protein rich in alanines (A), glycines (G), cysteines (C) and threonines (T). \n",
    "If you know, you should supply this information:\n",
    "'''"
   ]
  },
  {
   "cell_type": "code",
   "execution_count": null,
   "metadata": {},
   "outputs": [],
   "source": [
    "help(Seq)"
   ]
  },
  {
   "cell_type": "code",
   "execution_count": null,
   "metadata": {},
   "outputs": [],
   "source": [
    "print(my_seq.alphabet)"
   ]
  },
  {
   "cell_type": "code",
   "execution_count": null,
   "metadata": {},
   "outputs": [],
   "source": [
    "from Bio.Alphabet import generic_dna, generic_protein"
   ]
  },
  {
   "cell_type": "code",
   "execution_count": null,
   "metadata": {},
   "outputs": [],
   "source": [
    "my_dna = Seq(\"AGTACACTGGT\", alphabet=generic_dna)\n",
    "print(my_dna)"
   ]
  },
  {
   "cell_type": "code",
   "execution_count": null,
   "metadata": {},
   "outputs": [],
   "source": [
    "my_dna"
   ]
  },
  {
   "cell_type": "code",
   "execution_count": null,
   "metadata": {},
   "outputs": [],
   "source": [
    "my_protein = Seq(\"AGTACACTGGT\", alphabet=generic_protein)\n",
    "print(my_protein)"
   ]
  },
  {
   "cell_type": "code",
   "execution_count": null,
   "metadata": {},
   "outputs": [],
   "source": [
    "my_protein"
   ]
  },
  {
   "cell_type": "code",
   "execution_count": null,
   "metadata": {},
   "outputs": [],
   "source": [
    "# ==================================== Alphabets ================================================"
   ]
  },
  {
   "cell_type": "code",
   "execution_count": null,
   "metadata": {},
   "outputs": [],
   "source": [
    "# https://biopython.org/DIST/docs/api/Bio.Alphabet-module.html\n",
    "\n",
    "import Bio.Alphabet"
   ]
  },
  {
   "cell_type": "code",
   "execution_count": null,
   "metadata": {},
   "outputs": [],
   "source": [
    "print(Bio.Alphabet.IUPAC.unambiguous_dna.letters)\n",
    "print(Bio.Alphabet.IUPAC.ambiguous_dna.letters)"
   ]
  },
  {
   "cell_type": "code",
   "execution_count": null,
   "metadata": {},
   "outputs": [],
   "source": [
    "print(Bio.Data.IUPACData.ambiguous_dna_values[\"A\"])\n",
    "print(Bio.Data.IUPACData.ambiguous_dna_values[\"R\"])\n",
    "print(Bio.Data.IUPACData.ambiguous_dna_values[\"Y\"])\n",
    "print(Bio.Data.IUPACData.ambiguous_dna_values[\"S\"])"
   ]
  },
  {
   "cell_type": "code",
   "execution_count": null,
   "metadata": {},
   "outputs": [],
   "source": [
    "print(len(Bio.Alphabet.ThreeLetterProtein.letters))\n",
    "print(Bio.Alphabet.ThreeLetterProtein.letters)\n",
    "# Selenocysteine (Sec), Pyrrolysine (Pyl) -- these are not normally found in proteins,\n",
    "# Asx - Asparagine (Asn) or aspartic acid (Asp)\n",
    "# Xaa - Unspecified or unknown amino acid"
   ]
  },
  {
   "cell_type": "code",
   "execution_count": null,
   "metadata": {},
   "outputs": [],
   "source": [
    "print(Bio.Alphabet.SecondaryStructure.letters) \n",
    "# H - helix\n",
    "# S - strand \n",
    "# T - ?\n",
    "# C - ?"
   ]
  },
  {
   "cell_type": "code",
   "execution_count": null,
   "metadata": {},
   "outputs": [],
   "source": [
    "# ==================================== Back to Sequences ================================================"
   ]
  },
  {
   "cell_type": "code",
   "execution_count": null,
   "metadata": {},
   "outputs": [],
   "source": [
    "coding_dna = Seq(\"ATGGCCATTGTAATGGGCCGCTGAAAGGGTGCCCGATAG\")\n",
    "print(coding_dna)"
   ]
  },
  {
   "cell_type": "code",
   "execution_count": null,
   "metadata": {},
   "outputs": [],
   "source": [
    "coding_dna.alphabet"
   ]
  },
  {
   "cell_type": "code",
   "execution_count": null,
   "metadata": {},
   "outputs": [],
   "source": [
    "messenger_rna = coding_dna.transcribe()\n",
    "print(messenger_rna)"
   ]
  },
  {
   "cell_type": "code",
   "execution_count": null,
   "metadata": {
    "scrolled": true
   },
   "outputs": [],
   "source": [
    "messenger_rna.alphabet"
   ]
  },
  {
   "cell_type": "code",
   "execution_count": null,
   "metadata": {},
   "outputs": [],
   "source": [
    "cDNA = messenger_rna.back_transcribe()\n",
    "print(cDNA)"
   ]
  },
  {
   "cell_type": "code",
   "execution_count": null,
   "metadata": {
    "scrolled": true
   },
   "outputs": [],
   "source": [
    "cDNA.alphabet"
   ]
  },
  {
   "cell_type": "code",
   "execution_count": null,
   "metadata": {},
   "outputs": [],
   "source": [
    "protein1 = coding_dna.translate()\n",
    "protein2 = messenger_rna.translate()\n",
    "\n",
    "print(protein1)\n",
    "print(protein2)"
   ]
  },
  {
   "cell_type": "code",
   "execution_count": null,
   "metadata": {},
   "outputs": [],
   "source": [
    "protein1.alphabet"
   ]
  },
  {
   "cell_type": "code",
   "execution_count": null,
   "metadata": {},
   "outputs": [],
   "source": [
    "protein2.alphabet"
   ]
  },
  {
   "cell_type": "code",
   "execution_count": null,
   "metadata": {},
   "outputs": [],
   "source": []
  },
  {
   "cell_type": "code",
   "execution_count": null,
   "metadata": {},
   "outputs": [],
   "source": [
    "Seq(\"ATGCCCAA\").translate()"
   ]
  },
  {
   "cell_type": "code",
   "execution_count": null,
   "metadata": {},
   "outputs": [],
   "source": []
  },
  {
   "cell_type": "code",
   "execution_count": null,
   "metadata": {},
   "outputs": [],
   "source": [
    "rna_seq = Seq(\"CCGGGUU\", alphabet = Bio.Alphabet.IUPAC.unambiguous_rna)"
   ]
  },
  {
   "cell_type": "code",
   "execution_count": null,
   "metadata": {},
   "outputs": [],
   "source": [
    "rna_seq.transcribe()"
   ]
  },
  {
   "cell_type": "code",
   "execution_count": null,
   "metadata": {},
   "outputs": [],
   "source": []
  },
  {
   "cell_type": "code",
   "execution_count": null,
   "metadata": {},
   "outputs": [],
   "source": [
    "seq = Seq(\"CCGGGTT\")\n",
    "print(seq)\n",
    "print(seq[:5]) # it behaves almost like a string \n",
    "print(seq[0])\n",
    "seq[0]=\"T\" # they are immutable"
   ]
  },
  {
   "cell_type": "code",
   "execution_count": null,
   "metadata": {},
   "outputs": [],
   "source": [
    "for index, letter in *(seq):\n",
    "    print(\"%i %s\" % (index, letter))\n",
    "    \n",
    "# 0 C\n",
    "# 1 C\n",
    "# 2 G\n",
    "# 3 G\n",
    "# 4 G\n",
    "# 5 T\n",
    "# 6 T"
   ]
  },
  {
   "cell_type": "code",
   "execution_count": null,
   "metadata": {},
   "outputs": [],
   "source": [
    "# Seq objects are not mutable but...\n",
    "\n",
    "mut_seq = seq.tomutable()\n",
    "mut_seq"
   ]
  },
  {
   "cell_type": "code",
   "execution_count": null,
   "metadata": {},
   "outputs": [],
   "source": []
  },
  {
   "cell_type": "code",
   "execution_count": null,
   "metadata": {},
   "outputs": [],
   "source": [
    "mut_seq[0]=\"T\"\n",
    "print(mut_seq)\n",
    "# append(), insert(), pop(), remove()... --> check all methods via `tab`, see no methds transcribe() and so on.."
   ]
  },
  {
   "cell_type": "code",
   "execution_count": null,
   "metadata": {},
   "outputs": [],
   "source": [
    "mut_seq\n",
    "seq"
   ]
  },
  {
   "cell_type": "code",
   "execution_count": null,
   "metadata": {},
   "outputs": [],
   "source": [
    "# There are also some methods specific for changing a DNA sequence:\n",
    "mut_seq.reverse()\n",
    "print(\"\\nreversed: %s\" % (mut_seq))\n",
    "\n",
    "mut_seq.complement()\n",
    "print(\"\\ncomplement: %s\" % (mut_seq))\n",
    "\n",
    "mut_seq.reverse_complement()\n",
    "print(\"\\nreverse_complement: %s\" % (mut_seq))\n",
    "\n",
    "print(\"\\nNote, Seq isn't mutable and thus method reverse() isn't applicable there:\")\n",
    "seq.reverse()"
   ]
  },
  {
   "cell_type": "code",
   "execution_count": null,
   "metadata": {},
   "outputs": [],
   "source": []
  },
  {
   "cell_type": "code",
   "execution_count": null,
   "metadata": {},
   "outputs": [],
   "source": [
    "# ==================================== Sequence Records ================================================"
   ]
  },
  {
   "cell_type": "code",
   "execution_count": null,
   "metadata": {},
   "outputs": [],
   "source": [
    "# SeqRecord is a Seq object with associated metadata:\n",
    "\n",
    "from Bio.SeqRecord import SeqRecord\n",
    "\n",
    "# let's define out Seq as SeqRecord\n",
    "seq_rec = SeqRecord(seq, \n",
    "                    id=\"001\", \n",
    "                    name=\"My Sequence\", \n",
    "                    description=\"Gene ***\",\n",
    "                    dbxrefs=[\"Pfam:PF05077\", \"InterPro:IPR007769\", \"DIP:2186N\"])\n",
    "                    # dbxrefs A list of strings, each string is a database cross reference id."
   ]
  },
  {
   "cell_type": "code",
   "execution_count": null,
   "metadata": {},
   "outputs": [],
   "source": [
    "help()"
   ]
  },
  {
   "cell_type": "code",
   "execution_count": null,
   "metadata": {},
   "outputs": [],
   "source": [
    "seq_rec"
   ]
  },
  {
   "cell_type": "code",
   "execution_count": null,
   "metadata": {},
   "outputs": [],
   "source": [
    "# changing features post-factum:\n",
    "seq_rec.description = \"gene of toxic membrane protein\""
   ]
  },
  {
   "cell_type": "code",
   "execution_count": null,
   "metadata": {},
   "outputs": [],
   "source": [
    "seq_rec"
   ]
  },
  {
   "cell_type": "code",
   "execution_count": null,
   "metadata": {},
   "outputs": [],
   "source": []
  },
  {
   "cell_type": "code",
   "execution_count": null,
   "metadata": {},
   "outputs": [],
   "source": []
  },
  {
   "cell_type": "code",
   "execution_count": null,
   "metadata": {},
   "outputs": [],
   "source": [
    "print(seq_rec.format(\"fasta\"))"
   ]
  },
  {
   "cell_type": "code",
   "execution_count": null,
   "metadata": {},
   "outputs": [],
   "source": []
  },
  {
   "cell_type": "code",
   "execution_count": null,
   "metadata": {},
   "outputs": [],
   "source": [
    "# Bio.SeqIO is a common interface to input (read) and output (write) sequence file formats. \n",
    "\n",
    "# Sequences retrieved with this interface are passed to your program as SeqRecord objects.\n",
    "\n",
    "from Bio import SeqIO\n",
    "\n",
    "# subl.\n",
    "\n",
    "for seq_record in SeqIO.parse(\"/home/octopus/Documents/2scripts/Py/teaching/2_BioPython/ls_orchid.fasta\", \n",
    "                              \"fasta\"):\n",
    "    print(seq_record.id)\n",
    "    print(repr(seq_record.seq))\n",
    "    print(len(seq_record.seq))"
   ]
  },
  {
   "cell_type": "code",
   "execution_count": null,
   "metadata": {},
   "outputs": [],
   "source": [
    "# GenBank file\n",
    "\n",
    "for seq_record in SeqIO.parse(\"/home/octopus/Documents/2scripts/Py/teaching/2_BioPython/ls_orchid.gbk\", \n",
    "                              \"genbank\"):\n",
    "    print(seq_record.id)\n",
    "    print(repr(seq_record.seq))\n",
    "    print(len(seq_record.seq))"
   ]
  },
  {
   "cell_type": "code",
   "execution_count": null,
   "metadata": {},
   "outputs": [],
   "source": [
    "record = SeqIO.parse(\"/home/octopus/Documents/2scripts/Py/teaching/2_BioPython/ls_orchid.gbk\", \n",
    "                              \"genbank\")"
   ]
  },
  {
   "cell_type": "code",
   "execution_count": null,
   "metadata": {},
   "outputs": [],
   "source": [
    "record"
   ]
  },
  {
   "cell_type": "code",
   "execution_count": null,
   "metadata": {},
   "outputs": [],
   "source": []
  },
  {
   "cell_type": "code",
   "execution_count": null,
   "metadata": {},
   "outputs": [],
   "source": [
    "record_dict = SeqIO.to_dict(SeqIO.parse(\"/home/octopus/Documents/2scripts/Py/teaching/2_BioPython/ls_orchid.gbk\", \n",
    "                              \"genbank\"))"
   ]
  },
  {
   "cell_type": "code",
   "execution_count": null,
   "metadata": {},
   "outputs": [],
   "source": [
    "record_dict"
   ]
  },
  {
   "cell_type": "code",
   "execution_count": null,
   "metadata": {},
   "outputs": [],
   "source": [
    "record_dict[\"Z78533.1\"]"
   ]
  },
  {
   "cell_type": "code",
   "execution_count": null,
   "metadata": {},
   "outputs": [],
   "source": []
  },
  {
   "cell_type": "code",
   "execution_count": null,
   "metadata": {},
   "outputs": [],
   "source": [
    "record = SeqIO.read(\"/home/octopus/Documents/2scripts/Py/teaching/2_BioPython/ls_orchid.gbk\", \n",
    "                              \"genbank\")"
   ]
  },
  {
   "cell_type": "code",
   "execution_count": null,
   "metadata": {},
   "outputs": [],
   "source": []
  },
  {
   "cell_type": "code",
   "execution_count": null,
   "metadata": {},
   "outputs": [],
   "source": [
    "Rec1 = SeqRecord(Seq(\"ACCA\"), id=\"1\", description=\"\")\n",
    "Rec2 = SeqRecord(Seq(\"CDRFAA\"), id=\"2\", description=\"\")\n",
    "Rec3 = SeqRecord(Seq(\"GRKLM\"), id=\"3\", description=\"\")\n",
    "My_records = [Rec1, Rec2, Rec3]\n",
    "handle = open(\"/home/octopus/Documents/2scripts/Py/teaching/2_BioPython/MySeqs.fas\",\"w\")\n",
    "SeqIO.write(My_records, handle, \"fasta\")\n",
    "handle.close()"
   ]
  },
  {
   "cell_type": "code",
   "execution_count": null,
   "metadata": {},
   "outputs": [],
   "source": []
  },
  {
   "cell_type": "code",
   "execution_count": null,
   "metadata": {},
   "outputs": [],
   "source": [
    "# Converting between sequence file formats\n",
    "# You can do file conversion by combining Bio.SeqIO.parse() and Bio.SeqIO.write()"
   ]
  },
  {
   "cell_type": "code",
   "execution_count": null,
   "metadata": {},
   "outputs": [],
   "source": [
    "In_handle = open(\"/home/octopus/Documents/2scripts/Py/teaching/2_BioPython/ls_orchid.gbk\", \"r\")\n",
    "Out_handle = open(\"/home/octopus/Documents/2scripts/Py/teaching/2_BioPython/manuallyCreated_ls_orchid.fasta\", \"w\")\n",
    "\n",
    "records = SeqIO.parse(In_handle, \"genbank\")\n",
    "\n",
    "SeqIO.write(records, Out_handle, \"fasta\")\n",
    "\n",
    "In_handle.close()\n",
    "Out_handle.close()"
   ]
  },
  {
   "cell_type": "code",
   "execution_count": null,
   "metadata": {},
   "outputs": [],
   "source": []
  },
  {
   "cell_type": "code",
   "execution_count": null,
   "metadata": {},
   "outputs": [],
   "source": []
  },
  {
   "cell_type": "code",
   "execution_count": null,
   "metadata": {},
   "outputs": [],
   "source": [
    "# ==================================== Alignments & Phylogenetics ================================================"
   ]
  },
  {
   "cell_type": "code",
   "execution_count": null,
   "metadata": {},
   "outputs": [],
   "source": [
    "from Bio.Align import MultipleSeqAlignment"
   ]
  },
  {
   "cell_type": "code",
   "execution_count": null,
   "metadata": {},
   "outputs": [],
   "source": [
    "MultipleSeqAlignment(\n",
    "    SeqIO.parse(\"/home/octopus/Documents/2scripts/Py/teaching/2_BioPython/opuntia.fasta\", \"fasta\"))"
   ]
  },
  {
   "cell_type": "code",
   "execution_count": null,
   "metadata": {},
   "outputs": [],
   "source": [
    "import Bio.Align.Applications\n",
    "\n",
    "dir(Bio.Align.Applications)"
   ]
  },
  {
   "cell_type": "code",
   "execution_count": null,
   "metadata": {},
   "outputs": [],
   "source": [
    "from Bio.Align.Applications import ClustalwCommandline\n",
    "\n",
    "help(ClustalwCommandline)\n"
   ]
  },
  {
   "cell_type": "code",
   "execution_count": null,
   "metadata": {},
   "outputs": [],
   "source": [
    "cline = ClustalwCommandline(\"clustalw\", \n",
    "                            infile=\"/home/octopus/Documents/2scripts/Py/teaching/2_BioPython/opuntia.fasta\")\n",
    "print(cline)"
   ]
  },
  {
   "cell_type": "code",
   "execution_count": null,
   "metadata": {},
   "outputs": [],
   "source": [
    "from Bio import AlignIO\n",
    "\n",
    "align = AlignIO.read(\"/home/octopus/Documents/2scripts/Py/teaching/2_BioPython/opuntia.aln\", \"clustal\")\n",
    "print(align)"
   ]
  },
  {
   "cell_type": "code",
   "execution_count": null,
   "metadata": {},
   "outputs": [],
   "source": [
    "from Bio import Phylo\n",
    "\n",
    "tree = Phylo.read(\"/home/octopus/Documents/2scripts/Py/teaching/2_BioPython/opuntia.dnd\", \"newick\")\n",
    "Phylo.draw_ascii(tree)"
   ]
  },
  {
   "cell_type": "code",
   "execution_count": null,
   "metadata": {},
   "outputs": [],
   "source": []
  },
  {
   "cell_type": "code",
   "execution_count": null,
   "metadata": {},
   "outputs": [],
   "source": []
  },
  {
   "cell_type": "code",
   "execution_count": null,
   "metadata": {},
   "outputs": [],
   "source": []
  },
  {
   "cell_type": "code",
   "execution_count": null,
   "metadata": {},
   "outputs": [],
   "source": []
  },
  {
   "cell_type": "code",
   "execution_count": null,
   "metadata": {},
   "outputs": [],
   "source": [
    "# ==================================== BioData ================================================"
   ]
  },
  {
   "cell_type": "code",
   "execution_count": null,
   "metadata": {},
   "outputs": [],
   "source": [
    "# Each amino acid (represented by a single letter) has an individual weight. \n",
    "\n",
    "# Each amino acid bond release a water molecule (with a weight of 18 iu).\n",
    "\n",
    "from Bio.Data.IUPACData import protein_weights as protweight\n",
    "\n",
    "protweight.get(\"A\") # Alanine"
   ]
  },
  {
   "cell_type": "code",
   "execution_count": null,
   "metadata": {},
   "outputs": [],
   "source": [
    "protseq = \"MFPTWYV\"\n",
    "\n",
    "totalW = 0\n",
    "for aa in protseq:\n",
    "    totalW += protweight.get(aa)\n",
    "\n",
    "totalW -= ...\n",
    "\n",
    "print()"
   ]
  },
  {
   "cell_type": "code",
   "execution_count": null,
   "metadata": {},
   "outputs": [],
   "source": []
  },
  {
   "cell_type": "code",
   "execution_count": null,
   "metadata": {},
   "outputs": [],
   "source": []
  },
  {
   "cell_type": "code",
   "execution_count": null,
   "metadata": {},
   "outputs": [],
   "source": [
    "from Bio.Data import CodonTable\n",
    "\n",
    "print(CodonTable.generic_by_id[1])"
   ]
  },
  {
   "cell_type": "code",
   "execution_count": null,
   "metadata": {},
   "outputs": [],
   "source": [
    "print(CodonTable.generic_by_id[1].back_table)\n",
    "print(\"\\n\")\n",
    "print(CodonTable.generic_by_id[1].stop_codons)"
   ]
  },
  {
   "cell_type": "code",
   "execution_count": null,
   "metadata": {},
   "outputs": [],
   "source": []
  },
  {
   "cell_type": "code",
   "execution_count": null,
   "metadata": {},
   "outputs": [],
   "source": [
    "# This function implements the “nearest neighbor method” and can be use for both DNA and RNA sequences:\n",
    "\n",
    "from Bio.SeqUtils import MeltingTemp\n",
    "\n",
    "mt = MeltingTemp.Tm_staluc(\"TCTTGGCGGAGACA\")\n",
    "print(mt)\n",
    "\n",
    "print(\"%.2f\" % mt)"
   ]
  },
  {
   "cell_type": "code",
   "execution_count": null,
   "metadata": {},
   "outputs": [],
   "source": [
    "# https://biopython.org/DIST/docs/api/Bio.SeqUtils-module.html"
   ]
  },
  {
   "cell_type": "code",
   "execution_count": null,
   "metadata": {},
   "outputs": [],
   "source": []
  },
  {
   "cell_type": "code",
   "execution_count": null,
   "metadata": {},
   "outputs": [],
   "source": [
    "# ==================================== DataBases ================================================"
   ]
  },
  {
   "cell_type": "code",
   "execution_count": null,
   "metadata": {},
   "outputs": [],
   "source": [
    "'''\n",
    "Entrez is a search engine, \n",
    "-- integrates several health sciences databases at NCBI website.\n",
    "\n",
    "Search in the Entrez databases by keyword(s)\n",
    "'''"
   ]
  },
  {
   "cell_type": "code",
   "execution_count": null,
   "metadata": {},
   "outputs": [],
   "source": []
  },
  {
   "cell_type": "code",
   "execution_count": null,
   "metadata": {},
   "outputs": [],
   "source": [
    "from Bio import Entrez\n",
    "my_em = \"anastasiia.gainullina@gmail.com\"\n",
    "db = \"pubmed\"\n",
    "\n",
    "h_search = Entrez.esearch(db=\"pubmed\", \n",
    "                          email=my_em, \n",
    "                          term=\"itaconate\") # term=\"Homo sapiens AND mRNA AND MapK\"\n",
    "print(\"\\nESearch:\")\n",
    "print(h_search)\n",
    "\n",
    "record = Entrez.read(h_search)\n",
    "print(\"\\nRecord:\")\n",
    "print(record)\n",
    "\n",
    "# Get the list of Ids returned by previous search\n",
    "print(\"\\nRecord_IdList:\")\n",
    "res_ids = record[\"IdList\"]\n",
    "print(res_ids) # https://www.ncbi.nlm.nih.gov/pubmed/32178247"
   ]
  },
  {
   "cell_type": "code",
   "execution_count": null,
   "metadata": {},
   "outputs": [],
   "source": [
    "# For each id in the list\n",
    "for r_id in res_ids[0:3]:\n",
    "    \n",
    "    # Get summary information for each id\n",
    "    h_summ = Entrez.esummary(db=\"pubmed\", \n",
    "                             email=my_em,\n",
    "                             id=r_id)\n",
    "    \n",
    "    # Parse the result with Entrez.read()\n",
    "    summ = Entrez.read(h_summ)\n",
    "#     print(summ[0])\n",
    "#     print(\"\\n\")\n",
    "    print(summ[0][\"Title\"])\n",
    "    print(\"\\n\")\n",
    "    print(summ[0][\"DOI\"])\n",
    "    print(\"==============================================\")"
   ]
  },
  {
   "cell_type": "code",
   "execution_count": null,
   "metadata": {},
   "outputs": [],
   "source": []
  },
  {
   "cell_type": "code",
   "execution_count": null,
   "metadata": {},
   "outputs": [],
   "source": []
  },
  {
   "cell_type": "code",
   "execution_count": null,
   "metadata": {},
   "outputs": [],
   "source": [
    "# PDB files store information regarding three dimensional structures of molecules held at the Protein Data Bank.\n",
    "# (crystallography, EM)\n",
    "\n",
    "# To analyze protein structure data, your need to be able to parse the data from PDB files. \n",
    "# This is the role of the Bio.pdb module.\n",
    "\n",
    "# To effectively use the Bio.PDB module, you have first to understand the PDB file structure."
   ]
  },
  {
   "cell_type": "code",
   "execution_count": null,
   "metadata": {},
   "outputs": [],
   "source": [
    "from Bio.PDB.PDBParser import PDBParser\n",
    "\n",
    "# pdbfn = \"/home/octopus/Documents/2scripts/Py/teaching/2_BioPython/5hu9.pdb\"\n",
    "pdbfn = \"/home/octopus/Desktop/6w4b.pdb\" # let's download from pdb\n",
    "parser = PDBParser(PERMISSIVE=1)\n",
    "structure = parser.get_structure(id = \"some_structure_id\", file = pdbfn)\n",
    "print(structure)"
   ]
  },
  {
   "cell_type": "code",
   "execution_count": null,
   "metadata": {},
   "outputs": [],
   "source": [
    "print(structure.header[\"resolution\"])"
   ]
  },
  {
   "cell_type": "code",
   "execution_count": null,
   "metadata": {},
   "outputs": [],
   "source": [
    "print(structure.header[\"structure_method\"])"
   ]
  },
  {
   "cell_type": "code",
   "execution_count": null,
   "metadata": {},
   "outputs": [],
   "source": [
    "for i in structure.get_chains():\n",
    "    print(i)"
   ]
  },
  {
   "cell_type": "code",
   "execution_count": null,
   "metadata": {},
   "outputs": [],
   "source": []
  },
  {
   "cell_type": "code",
   "execution_count": null,
   "metadata": {},
   "outputs": [],
   "source": [
    "# KEGG "
   ]
  },
  {
   "cell_type": "code",
   "execution_count": null,
   "metadata": {},
   "outputs": [],
   "source": [
    "from Bio.KEGG import REST\n",
    "human_pathways = REST.kegg_list(\"pathway\", \"hsa\").read()"
   ]
  },
  {
   "cell_type": "code",
   "execution_count": null,
   "metadata": {},
   "outputs": [],
   "source": [
    "human_pathways"
   ]
  },
  {
   "cell_type": "code",
   "execution_count": null,
   "metadata": {},
   "outputs": [],
   "source": [
    "repair_pathways = []\n",
    "for line in human_pathways.split(\"\\n\"):\n",
    "    entry, description = line.split(\"\\t\")\n",
    "    print(entry)\n",
    "    print(description)\n",
    "    if \"repair\" in description:\n",
    "        repair_pathways.append(entry)\n",
    "        # Get the genes for pathways and add them to a list"
   ]
  },
  {
   "cell_type": "code",
   "execution_count": null,
   "metadata": {},
   "outputs": [],
   "source": [
    "repair_pathways"
   ]
  },
  {
   "cell_type": "code",
   "execution_count": null,
   "metadata": {},
   "outputs": [],
   "source": [
    "repair_genes = []\n",
    "\n",
    "for pathway in repair_pathways:\n",
    "    \n",
    "    pathway_file = REST.kegg_get(pathway).read() # query and read each pathway\n",
    "    # print(pathway_file)\n",
    "    \n",
    "    for line in pathway_file.split(\"\\n\"):\n",
    "        section = line[:12].strip() # section names are within 12 columns (know by specification or empirically)\n",
    "        # print(section)\n",
    "        \n",
    "        if section == \"GENE\":\n",
    "\n",
    "            gene_identifiers, gene_description = line[12:].split(\"; \")\n",
    "            gene_id, gene_symbol = gene_identifiers.split()\n",
    "\n",
    "            if not gene_symbol in repair_genes:\n",
    "                repair_genes.append(gene_symbol)"
   ]
  },
  {
   "cell_type": "code",
   "execution_count": null,
   "metadata": {},
   "outputs": [],
   "source": [
    "print(\"There are %d repair pathways and %d repair genes. The genes are:\" \n",
    "      % (len(repair_pathways), len(repair_genes)))\n",
    "print(\", \".join(repair_genes))"
   ]
  },
  {
   "cell_type": "code",
   "execution_count": null,
   "metadata": {},
   "outputs": [],
   "source": []
  },
  {
   "cell_type": "code",
   "execution_count": null,
   "metadata": {},
   "outputs": [],
   "source": []
  }
 ],
 "metadata": {
  "kernelspec": {
   "display_name": "Python 3",
   "language": "python",
   "name": "python3"
  },
  "language_info": {
   "codemirror_mode": {
    "name": "ipython",
    "version": 3
   },
   "file_extension": ".py",
   "mimetype": "text/x-python",
   "name": "python",
   "nbconvert_exporter": "python",
   "pygments_lexer": "ipython3",
   "version": "3.7.3"
  }
 },
 "nbformat": 4,
 "nbformat_minor": 2
}
